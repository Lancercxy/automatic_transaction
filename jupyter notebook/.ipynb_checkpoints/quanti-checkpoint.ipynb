{
 "cells": [
  {
   "cell_type": "code",
   "execution_count": 160,
   "metadata": {},
   "outputs": [],
   "source": [
    "import akshare as ak\n",
    "import matplotlib.pyplot as plt \n",
    "from pylab import mpl\n",
    "import pandas as pd\n",
    "import requests\n",
    "from bs4 import BeautifulSoup \n",
    "import re\n",
    "from jqdatasdk import *"
   ]
  },
  {
   "cell_type": "code",
   "execution_count": 34,
   "metadata": {},
   "outputs": [],
   "source": [
    "def get_stock(code):\n",
    "    df = ak.stock_zh_a_hist(symbol=code,start_date=\"20230210\", end_date='20230310', adjust=\"\")\n",
    "#     print(df)\n",
    "    path = f'D:\\office\\Github\\爬虫\\自动买卖股票数据采集\\{code}.csv'\n",
    "    df.to_csv(path,index=False)"
   ]
  },
  {
   "cell_type": "code",
   "execution_count": 100,
   "metadata": {},
   "outputs": [],
   "source": [
    "def get_sz():\n",
    "    url = 'https://q.stock.sohu.com/hisHq?code=zs_000001&stat=1&order=D&period=d&callback=historySearchHandler&rt=jsonp&0.4530586399394587'\n",
    "    headers = {'User-Agent': 'Mozilla/5.0 (Windows NT 10.0; Win64; x64) AppleWebKit/537.36 (KHTML, like Gecko) Chrome/109.0.0.0 Safari/537.36 Edg/109.0.1518.70',\n",
    "               'Cookie':'gidinf=x099980109ee1586bb342f0390007640b6db6df607be; reqtype=pc; BIZ_MyLBS=cn_688039%2C%u5F53%u8679%u79D1%u6280%7Ccn_000002%2C%u4E07%u79D1%uFF21%7Ccn_601121%2C%u5B9D%u5730%u77FF%u4E1A; t=1678499703304'\n",
    "               }\n",
    "    response = requests.get(url, headers=headers)\n",
    "    sz = response.text\n",
    "    sz01 = sz.split('[')[4].split(']')[0]\n",
    "    sz02 = sz01.split(',')[4]\n",
    "    sz03 = sz02.replace('%','').replace('\"','')\n",
    "    if sz03 >= 0.5:\n",
    "        return True\n",
    "        \n",
    "    # print(float(sz03))\n",
    "            "
   ]
  },
  {
   "cell_type": "code",
   "execution_count": 163,
   "metadata": {},
   "outputs": [],
   "source": [
    "def calculation_cci(stock_list):\n",
    "    buy_code_list = []\n",
    "    for code in stock_list:\n",
    "        #根据传入的股票代码读取数据\n",
    "        df = pd.read_csv(f'D:\\office\\Github\\爬虫\\自动买卖股票数据采集\\{code}.csv',sep=',')\n",
    "        #获取T-1涨跌幅\n",
    "        df_Rise_fall = df[-2:].head(1)['涨跌幅']\n",
    "        df_Rise_fall = float(df_Rise_fall)\n",
    "        #创建列表用于存储cci值\n",
    "        cci_list = []\n",
    "        for j in range(1,3):\n",
    "            #删去T日与T-1的数据然后计算cci\n",
    "            df.drop(df.tail(1).index,inplace=True)\n",
    "            # print(df)\n",
    "            TP = (df[-1:]['最高']+df[-1:]['最低']+df[-1:]['收盘'])/3\n",
    "            # print(\"T-{0}的TP={1}\".format(j,TP))\n",
    "            df_14 = df.tail(14)\n",
    "            MA = (df_14[['最高','最低','收盘']].sum(axis=1).sum(axis=0))/42\n",
    "            # print(\"T-{0}的MA=\".format(j,MA))\n",
    "            md = df_14[['最高','最低','收盘']].sum(axis=1)\n",
    "            add = 0\n",
    "            for i in md:\n",
    "                add += abs(i/3 - MA)\n",
    "            MD = add/14\n",
    "            # print(\"T-{0}的MD=\".format(j,MD))\n",
    "            cci = (TP - MA)/MD/0.015\n",
    "            # print(\"T-{0}的cci值为:{1:.2f}\".format(j,float(cci)))\n",
    "            cci_list.append(float(cci))\n",
    "            # print(cci_list)\n",
    "        # if cci_list[1] >= -50 and cci_list[1] <= 100 and cci_list[0] >= 100 and cci_list[0] <= 200 and df_Rise_fall >= 10:\n",
    "        #为了测试降低了买入要求\n",
    "        if cci_list[1] >= -50 and cci_list[1] <= 100 :\n",
    "            print('可买股票',code)\n",
    "            buy_code_list.append(code)\n",
    "            # return code\n",
    "        else:\n",
    "            print('不可买',code)\n",
    "    return buy_code_list"
   ]
  },
  {
   "cell_type": "code",
   "execution_count": 104,
   "metadata": {},
   "outputs": [],
   "source": [
    "def high_open(code):\n",
    "    g.today = context.current_dt.strftime('%Y-%m-%d')\n",
    "    g.start = context.current_dt + datetime.timedelta(-2)\n",
    "    grid = get_price(f'{code}.XSHE', start_date=g.start, end_date=g.today, fields=['open', 'high', 'low', 'close', 'high_limit', 'paused'])\n",
    "    if len(grid)>1 and grid.open[-1] > grid.close[-2] and grid.open[-1] / grid.close[-2] >= 1.00 and grid.open[-1] / grid.close[-2] <= 1.02 :\n",
    "        return True\n",
    "    return False"
   ]
  },
  {
   "cell_type": "code",
   "execution_count": 153,
   "metadata": {},
   "outputs": [],
   "source": [
    "#快开盘前对数据进行收集和筛选出符合要求的个股\n",
    "def before_market_open():\n",
    "    # log.info('函数运行时间(before_market_open):'+str(context.current_dt.time()))\n",
    "    df = pd.read_csv('D:\\office\\Github\\爬虫\\财经\\东方财富.csv',sep=',')\n",
    "    stock_list = []\n",
    "    for i in df['代码'][30:41]:\n",
    "        stock_list.append(i.replace('\"',''))\n",
    "    # for j in stock_list:\n",
    "    #     get_stock(j)\n",
    "    buy_code_list = []\n",
    "    # if get_sz():\n",
    "    if True:\n",
    "        code = calculation_cci(stock_list)\n",
    "        if code:\n",
    "            # path = 'D:\\office\\Github\\爬虫\\自动买卖股票数据采集\\buy_code_list.csv'\n",
    "            # code.to_csv(path,index=False)\n",
    "    #         buy_code_list.append(code)\n",
    "            return code\n",
    "    # return buy_code_list\n",
    "    # print('符合要求的股票有:')\n",
    "    # print(buy_code_list)"
   ]
  },
  {
   "cell_type": "code",
   "execution_count": null,
   "metadata": {},
   "outputs": [],
   "source": [
    "## 开盘时运行函数\n",
    "def market_open():\n",
    "    # log.info('函数运行时间(market_open):'+str(context.current_dt.time()))\n",
    "    #读取将要购入的个股代码\n",
    "    df = pd.read_csv('D:\\office\\Github\\爬虫\\自动买卖股票数据采集\\jupyter notebook\\.ipynb_checkpoints\\buy_code_list.csv')\n",
    "    own_stock = []\n",
    "    # 取得当前的现金并平均分成n份（n为可购买的个股数）\n",
    "    cash = context.portfolio.available_cash/len(df)\n",
    "    for code in buy_code_list:\n",
    "        g.security = f'{code}.XSHE'\n",
    "        security = g.security\n",
    "        if high_open(security):\n",
    "            # 用所有 cash 买入股票\n",
    "            order_value(code, cash)\n",
    "            own_stock.append(code)\n",
    "        else:\n",
    "            print(\"不买入\",code)\n",
    "        pf = pd.DataFrame(own_stock)\n",
    "        pf.columns=['code']\n",
    "        pf.to_csv('own_stock.csv',index=False)"
   ]
  },
  {
   "cell_type": "code",
   "execution_count": 169,
   "metadata": {},
   "outputs": [
    {
     "name": "stdout",
     "output_type": "stream",
     "text": [
      "不可买 688139\n",
      "可买股票 688350\n",
      "不可买 605358\n",
      "不可买 600095\n",
      "可买股票 603189\n",
      "不可买 688244\n",
      "可买股票 688004\n",
      "可买股票 603859\n",
      "不可买 688038\n",
      "不可买 601069\n",
      "可买股票 688618\n"
     ]
    }
   ],
   "source": [
    "if __name__ == \"__main__\":\n",
    "    # initialize()\n",
    "    # before_market_open()\n",
    "    # buy_code_list = []\n",
    "    buy_code_list = before_market_open()\n",
    "    pf = pd.DataFrame(buy_code_list)\n",
    "    pf.columns=['code']\n",
    "    pf.to_csv('buy_code_list.csv',index=False)\n",
    "    # pf.columns=['code']\n",
    "    # filename = 'buy_code_list.csv'\n",
    "    # with open(filename, 'w') as file_object:\n",
    "    #     for code in buy_code_list:\n",
    "    #         file_object.write(code+'\\n')\n",
    "    # market_open(buy_code_list)\n",
    "    \n"
   ]
  },
  {
   "cell_type": "code",
   "execution_count": null,
   "metadata": {},
   "outputs": [],
   "source": []
  }
 ],
 "metadata": {
  "kernelspec": {
   "display_name": "base",
   "language": "python",
   "name": "python3"
  },
  "language_info": {
   "codemirror_mode": {
    "name": "ipython",
    "version": 3
   },
   "file_extension": ".py",
   "mimetype": "text/x-python",
   "name": "python",
   "nbconvert_exporter": "python",
   "pygments_lexer": "ipython3",
   "version": "3.7.4"
  },
  "vscode": {
   "interpreter": {
    "hash": "e42634819b8c191a5d07eaf23810ff32516dd8d3875f28ec3e488928fbd3c187"
   }
  }
 },
 "nbformat": 4,
 "nbformat_minor": 4
}
