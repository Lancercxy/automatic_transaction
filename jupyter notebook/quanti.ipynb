{
 "cells": [
  {
   "cell_type": "code",
   "execution_count": 3,
   "metadata": {},
   "outputs": [
    {
     "name": "stderr",
     "output_type": "stream",
     "text": [
      "d:\\ProgramData\\Anaconda3\\lib\\site-packages\\akshare\\__init__.py:2338: UserWarning: 为了支持更多 AKShare 特性，请尽快升级 Python 到 3.8 以上版本\n",
      "  warnings.warn(\"为了支持更多 AKShare 特性，请尽快升级 Python 到 3.8 以上版本\")\n"
     ]
    }
   ],
   "source": [
    "import akshare as ak\n",
    "import matplotlib.pyplot as plt \n",
    "from pylab import mpl\n",
    "import pandas as pd"
   ]
  },
  {
   "cell_type": "code",
   "execution_count": 21,
   "metadata": {},
   "outputs": [],
   "source": [
    "def get_stock(code):\n",
    "    df = ak.stock_zh_a_hist(symbol=code,start_date=\"20230210\", end_date='20230310', adjust=\"\")\n",
    "#     print(df)\n",
    "    path = f'D:\\office\\Github\\爬虫\\自动买卖股票数据采集\\{code}.csv'\n",
    "    df.to_csv(path,index=False)"
   ]
  },
  {
   "cell_type": "code",
   "execution_count": 101,
   "metadata": {},
   "outputs": [],
   "source": [
    "def calculation_cci(code):\n",
    "    df = pd.read_csv(f'D:\\office\\Github\\爬虫\\自动买卖股票数据采集\\{code}.csv',sep=',')\n",
    "    TP = (df[-1:]['最高']+df[-1:]['最低']+df[-1:]['收盘'])/3\n",
    "    print(TP)\n",
    "#     print(df.head(14))\n",
    "    df_14 = df.tail(14)\n",
    "    MA = (df_14[['最高','最低','收盘']].sum(axis=1).sum(axis=0))/42\n",
    "    print(MA)\n",
    "    md = df_14[['最高','最低','收盘']].sum(axis=1)\n",
    "    add = 0\n",
    "    for i in md:\n",
    "        add += abs(i/3 - MA)\n",
    "#         print(add)\n",
    "    MD = add/14\n",
    "    print(MD)\n",
    "    cci = (TP - MA)/MD/0.015\n",
    "    print(\"cci=\",cci)\n",
    "#     MA = "
   ]
  },
  {
   "cell_type": "code",
   "execution_count": 102,
   "metadata": {},
   "outputs": [
    {
     "name": "stdout",
     "output_type": "stream",
     "text": [
      "20    70.39\n",
      "dtype: float64\n",
      "59.691428571428574\n",
      "9.837414965986394\n",
      "cci= 20    72.502593\n",
      "dtype: float64\n"
     ]
    }
   ],
   "source": [
    "if __name__ == \"__main__\":\n",
    "#     get_stock('688039')\n",
    "    calculation_cci('688039')"
   ]
  },
  {
   "cell_type": "code",
   "execution_count": null,
   "metadata": {},
   "outputs": [],
   "source": []
  }
 ],
 "metadata": {
  "kernelspec": {
   "display_name": "Python 3",
   "language": "python",
   "name": "python3"
  },
  "language_info": {
   "codemirror_mode": {
    "name": "ipython",
    "version": 3
   },
   "file_extension": ".py",
   "mimetype": "text/x-python",
   "name": "python",
   "nbconvert_exporter": "python",
   "pygments_lexer": "ipython3",
   "version": "3.7.4"
  }
 },
 "nbformat": 4,
 "nbformat_minor": 4
}
